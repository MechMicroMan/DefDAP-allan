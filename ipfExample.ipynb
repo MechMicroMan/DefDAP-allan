{
 "cells": [
  {
   "cell_type": "markdown",
   "metadata": {
    "collapsed": false,
    "deletable": true,
    "editable": true
   },
   "source": [
    "# Example notebook to plot IPF with strain or misOri values"
   ]
  },
  {
   "cell_type": "markdown",
   "metadata": {
    "deletable": true,
    "editable": true
   },
   "source": [
    "This is a work in progress and currently only has basic IPF plotting"
   ]
  },
  {
   "cell_type": "code",
   "execution_count": 2,
   "metadata": {
    "collapsed": true,
    "deletable": true,
    "editable": true
   },
   "outputs": [],
   "source": [
    "#Load packages\n",
    "import numpy as np\n",
    "import matplotlib.pyplot as plt\n",
    "\n",
    "# if using copy in current directory\n",
    "from quat import Quat\n",
    "import ebsd\n",
    "\n",
    "# if using installed copy\n",
    "# from DataAnalysisUtilities.quat import Quat\n",
    "# import DataAnalysisUtilities.ebsd as ebsd\n",
    "\n",
    "#Set plot behaviour\n",
    "%matplotlib osx"
   ]
  },
  {
   "cell_type": "markdown",
   "metadata": {
    "deletable": true,
    "editable": true
   },
   "source": [
    "### Plot an IPF of a single orientation"
   ]
  },
  {
   "cell_type": "markdown",
   "metadata": {
    "deletable": true,
    "editable": true
   },
   "source": [
    "Define Euler angles and convert to radians"
   ]
  },
  {
   "cell_type": "code",
   "execution_count": 4,
   "metadata": {
    "collapsed": false,
    "deletable": true,
    "editable": true
   },
   "outputs": [],
   "source": [
    "angles = np.array([195, 45, 59], dtype=float)\n",
    "angles *= np.pi / 180"
   ]
  },
  {
   "cell_type": "markdown",
   "metadata": {
    "deletable": true,
    "editable": true
   },
   "source": [
    "Define plotting direction"
   ]
  },
  {
   "cell_type": "code",
   "execution_count": 5,
   "metadata": {
    "collapsed": true,
    "deletable": true,
    "editable": true
   },
   "outputs": [],
   "source": [
    "direction = np.array([0, 0, 1])"
   ]
  },
  {
   "cell_type": "markdown",
   "metadata": {
    "deletable": true,
    "editable": true
   },
   "source": [
    "Create a quaternion object to store the orientation"
   ]
  },
  {
   "cell_type": "code",
   "execution_count": 7,
   "metadata": {
    "collapsed": false,
    "deletable": true,
    "editable": true
   },
   "outputs": [],
   "source": [
    "ori = Quat(angles[0], angles[1], angles[2])"
   ]
  },
  {
   "cell_type": "markdown",
   "metadata": {
    "deletable": true,
    "editable": true
   },
   "source": [
    "and plot"
   ]
  },
  {
   "cell_type": "code",
   "execution_count": 8,
   "metadata": {
    "collapsed": false,
    "deletable": true,
    "editable": true
   },
   "outputs": [],
   "source": [
    "Quat.plotIPF([ori], direction, \"cubic\")"
   ]
  },
  {
   "cell_type": "markdown",
   "metadata": {
    "deletable": true,
    "editable": true
   },
   "source": [
    "Plotting is done by matplotlib's scatter command and any extra arguments given to Quat.plotIPF will be passed to scatter. See [here](https://matplotlib.org/api/_as_gen/matplotlib.axes.Axes.scatter.html) for all options."
   ]
  },
  {
   "cell_type": "code",
   "execution_count": 9,
   "metadata": {
    "collapsed": true,
    "deletable": true,
    "editable": true
   },
   "outputs": [],
   "source": [
    "Quat.plotIPF([ori], direction, \"cubic\", c=\"blue\", s=100, marker=\"o\")"
   ]
  },
  {
   "cell_type": "markdown",
   "metadata": {
    "deletable": true,
    "editable": true
   },
   "source": [
    "### Plot multiple orientations"
   ]
  },
  {
   "cell_type": "markdown",
   "metadata": {
    "deletable": true,
    "editable": true
   },
   "source": [
    "Create some more quaternions"
   ]
  },
  {
   "cell_type": "code",
   "execution_count": 16,
   "metadata": {
    "collapsed": true,
    "deletable": true,
    "editable": true
   },
   "outputs": [],
   "source": [
    "angles = np.array([100, 70, 50], dtype=float)\n",
    "angles *= np.pi / 180\n",
    "ori2 = Quat(angles[0], angles[1], angles[2])\n",
    "\n",
    "angles = np.array([20, 10, 150], dtype=float)\n",
    "angles *= np.pi / 180\n",
    "ori3 = Quat(angles[0], angles[2], angles[0])"
   ]
  },
  {
   "cell_type": "markdown",
   "metadata": {
    "deletable": true,
    "editable": true
   },
   "source": [
    "The first argument of Quat.plotIPF is a list of quaternions, so plotting multiple is easy"
   ]
  },
  {
   "cell_type": "code",
   "execution_count": 17,
   "metadata": {
    "collapsed": false,
    "deletable": true,
    "editable": true
   },
   "outputs": [],
   "source": [
    "Quat.plotIPF([ori, ori2, ori3], direction, \"cubic\")"
   ]
  },
  {
   "cell_type": "markdown",
   "metadata": {
    "deletable": true,
    "editable": true
   },
   "source": [
    "Marker size and colour can be set per point"
   ]
  },
  {
   "cell_type": "code",
   "execution_count": 22,
   "metadata": {
    "collapsed": false,
    "deletable": true,
    "editable": true
   },
   "outputs": [],
   "source": [
    "colourVals = [0.1, 0.5, 1]\n",
    "sizeVals = [100, 200, 500]\n",
    "\n",
    "Quat.plotIPF([ori, ori2, ori3], direction, \"cubic\", marker='o', s=sizeVals,\n",
    "             c=colourVals, cmap=\"YlOrRd\", vmin=0, vmax=1)\n",
    "\n",
    "plt.colorbar();"
   ]
  },
  {
   "cell_type": "markdown",
   "metadata": {
    "deletable": true,
    "editable": true
   },
   "source": [
    "### Plot orientations from an EBSD map"
   ]
  },
  {
   "cell_type": "markdown",
   "metadata": {
    "deletable": true,
    "editable": true
   },
   "source": [
    "Load in an EBSD map, detect grains and then calculate each grains aveage orientaion"
   ]
  },
  {
   "cell_type": "code",
   "execution_count": 23,
   "metadata": {
    "collapsed": true,
    "deletable": true,
    "editable": true
   },
   "outputs": [],
   "source": [
    "EbsdFilePath = \"example_data/Map Data 2-DIC area\"\n",
    "\n",
    "EbsdMap = ebsd.Map(EbsdFilePath, \"cubic\")\n",
    "EbsdMap.buildQuatArray()\n",
    "EbsdMap.findBoundaries(boundDef = 10)\n",
    "EbsdMap.findGrains(minGrainSize=10)\n",
    "EbsdMap.calcGrainAvOris()"
   ]
  },
  {
   "cell_type": "markdown",
   "metadata": {
    "deletable": true,
    "editable": true
   },
   "source": [
    "Select a grain"
   ]
  },
  {
   "cell_type": "code",
   "execution_count": 25,
   "metadata": {
    "collapsed": false,
    "deletable": true,
    "editable": true
   },
   "outputs": [
    {
     "name": "stdout",
     "output_type": "stream",
     "text": [
      "Grain ID: 122\n"
     ]
    }
   ],
   "source": [
    "EbsdMap.locateGrainID()"
   ]
  },
  {
   "cell_type": "markdown",
   "metadata": {
    "deletable": true,
    "editable": true
   },
   "source": [
    "and then plot it's average orientaion (note the default direction here is (001) but we've specifically defined it here)"
   ]
  },
  {
   "cell_type": "code",
   "execution_count": 32,
   "metadata": {
    "collapsed": true,
    "deletable": true,
    "editable": true
   },
   "outputs": [],
   "source": [
    "EbsdMap.grainList[EbsdMap.currGrainId].plotRefOri(direction=direction)"
   ]
  },
  {
   "cell_type": "code",
   "execution_count": null,
   "metadata": {
    "collapsed": true
   },
   "outputs": [],
   "source": [
    "# you could also do this for a HRDIC map that has been linked to an EBSD map\n",
    "# HrdicMap.grainList[HrdicMap.currGrainId].ebsdGrain.plotRefOri()"
   ]
  },
  {
   "cell_type": "markdown",
   "metadata": {
    "deletable": true,
    "editable": true
   },
   "source": [
    "or plot the orientation of every point in the grain"
   ]
  },
  {
   "cell_type": "code",
   "execution_count": 33,
   "metadata": {
    "collapsed": true,
    "deletable": true,
    "editable": true
   },
   "outputs": [],
   "source": [
    "EbsdMap.grainList[EbsdMap.currGrainId].plotOriSpread(direction=direction)"
   ]
  },
  {
   "cell_type": "markdown",
   "metadata": {
    "deletable": true,
    "editable": true
   },
   "source": [
    "Now we could loop over each grain in the map to create a list of all the orientaions and plot that"
   ]
  },
  {
   "cell_type": "code",
   "execution_count": 34,
   "metadata": {
    "collapsed": true,
    "deletable": true,
    "editable": true
   },
   "outputs": [],
   "source": [
    "AverageOrientaions = []\n",
    "\n",
    "for grain in EbsdMap.grainList:\n",
    "    AverageOrientaions.append(grain.refOri)\n",
    "    \n",
    "Quat.plotIPF(AverageOrientaions, direction, EbsdMap.crystalSym)"
   ]
  },
  {
   "cell_type": "code",
   "execution_count": null,
   "metadata": {
    "collapsed": true,
    "deletable": true,
    "editable": true
   },
   "outputs": [],
   "source": []
  },
  {
   "cell_type": "code",
   "execution_count": null,
   "metadata": {
    "collapsed": true,
    "deletable": true,
    "editable": true
   },
   "outputs": [],
   "source": []
  },
  {
   "cell_type": "markdown",
   "metadata": {
    "deletable": true,
    "editable": true
   },
   "source": [
    "## There's nothing below here worth looking at"
   ]
  },
  {
   "cell_type": "code",
   "execution_count": null,
   "metadata": {
    "collapsed": true,
    "deletable": true,
    "editable": true
   },
   "outputs": [],
   "source": []
  },
  {
   "cell_type": "code",
   "execution_count": null,
   "metadata": {
    "collapsed": true,
    "deletable": true,
    "editable": true
   },
   "outputs": [],
   "source": []
  },
  {
   "cell_type": "code",
   "execution_count": null,
   "metadata": {
    "collapsed": true,
    "deletable": true,
    "editable": true
   },
   "outputs": [],
   "source": []
  },
  {
   "cell_type": "code",
   "execution_count": 26,
   "metadata": {
    "collapsed": false,
    "deletable": true,
    "editable": true
   },
   "outputs": [],
   "source": [
    "import matplotlib.pyplot as plt\n",
    "import numpy as np\n",
    "#import Read_EBSD\n",
    "from mpl_toolkits.axes_grid1 import make_axes_locatable\n",
    "import matplotlib.mlab as mlab\n",
    "\n",
    "import DataAnalysisUtilities.hrdic as hrdic\n",
    "\n",
    "from DataAnalysisUtilities.quat import Quat\n",
    "\n",
    "import DataAnalysisUtilities.ebsd as ebsd\n",
    "\n",
    "import matplotlib.image as mpimg"
   ]
  },
  {
   "cell_type": "code",
   "execution_count": 3,
   "metadata": {
    "collapsed": true,
    "deletable": true,
    "editable": true
   },
   "outputs": [],
   "source": [
    "%matplotlib osx"
   ]
  },
  {
   "cell_type": "code",
   "execution_count": null,
   "metadata": {
    "collapsed": true,
    "deletable": true,
    "editable": true
   },
   "outputs": [],
   "source": []
  },
  {
   "cell_type": "code",
   "execution_count": 123,
   "metadata": {
    "collapsed": false,
    "deletable": true,
    "editable": true
   },
   "outputs": [
    {
     "data": {
      "text/plain": [
       "[<matplotlib.lines.Line2D at 0x3985f5d68>]"
      ]
     },
     "execution_count": 123,
     "metadata": {},
     "output_type": "execute_result"
    }
   ],
   "source": [
    "plotIPFAxis()\n",
    "\n",
    "angles=[ 195.7,   45.3,   59.1 ]\n",
    "# angles=[0, 0, 0]\n",
    "angles=[241,27,18]\n",
    "\n",
    "orientation = Quat(angles[0] * np.pi / 180, angles[1] * np.pi / 180, angles[2] * np.pi / 180)\n",
    "directionSample = np.array((0, 0, 1))\n",
    "\n",
    "symmetries = Quat.symEqv(\"hexagonal\")\n",
    "\n",
    "directionCrystal = np.zeros((len(symmetries), 3))\n",
    "for i, symmetry in enumerate(symmetries):\n",
    "    orientationSym = symmetry * orientation\n",
    "    directionCrystal[i, :] = orientationSym.transformVector(directionSample)\n",
    "    directionCrystal[i, :] = directionCrystal[i, :] / np.dot(directionCrystal[i, :],directionCrystal[i, :])\n",
    "\n",
    "# move all vectors into north hemisphere\n",
    "directionCrystal[directionCrystal[:, 2] < 0, :] *= -1\n",
    "\n",
    "PFCoordsSph = np.zeros((len(symmetries), 2))\n",
    "PFCoordsSph[:, 0] = np.arccos(directionCrystal[:, 2])  # alpha\n",
    "PFCoordsSph[:, 1] = np.arctan2(directionCrystal[:, 1], directionCrystal[:, 0])  # beta\n",
    "\n",
    "PFCoordsPjt = np.zeros((len(symmetries), 2))\n",
    "PFCoordsPjt[:, 0] = np.tan(PFCoordsSph[:, 0]/2) * np.cos(PFCoordsSph[:, 1])\n",
    "PFCoordsPjt[:, 1] = np.tan(PFCoordsSph[:, 0]/2) * np.sin(PFCoordsSph[:, 1])\n",
    "\n",
    "\n",
    "trialPoles = np.logical_and(PFCoordsSph[:, 1] >= 0, PFCoordsSph[:, 1] <= np.pi/4)\n",
    "trialPoleIdxs = np.arange(len(trialPoles))[trialPoles]\n",
    "\n",
    "poleIdx = trialPoleIdxs[np.argmin(PFCoordsSph[trialPoles, 0])]\n",
    "\n",
    "# plt.plot(PFCoordsPjt[poleIdx, 0], PFCoordsPjt[poleIdx, 1], 'r+')\n",
    "plt.plot(PFCoordsPjt[:, 0], PFCoordsPjt[:, 1], 'r+')\n"
   ]
  },
  {
   "cell_type": "code",
   "execution_count": 114,
   "metadata": {
    "collapsed": true,
    "deletable": true,
    "editable": true
   },
   "outputs": [],
   "source": [
    "def stereoProject(x, y, z):\n",
    "    mod = np.sqrt(x**2 + y**2 + z**2)\n",
    "    x = x / mod\n",
    "    y = y / mod\n",
    "    z = z / mod\n",
    "    \n",
    "    alpha = np.arccos(z)\n",
    "    beta = np.arctan2(y, x)\n",
    "    \n",
    "    xp = np.tan(alpha/2) * np.sin(beta)\n",
    "    yp = -np.tan(alpha/2) * np.cos(beta)\n",
    "    \n",
    "    return xp, yp"
   ]
  },
  {
   "cell_type": "code",
   "execution_count": 118,
   "metadata": {
    "collapsed": false,
    "deletable": true,
    "editable": true
   },
   "outputs": [],
   "source": [
    "def plotIPFAxis():\n",
    "    res = 100\n",
    "    s = np.linspace(0, 1, res)\n",
    "    t = np.linspace(0, -1, res)\n",
    "    \n",
    "    xp, yp = stereoProject(t, s, np.ones(res))\n",
    "    plt.plot(xp, yp, 'k', lw=2)\n",
    "    plt.text(xp[0], yp[0]-0.005, '001', va='top', ha='center')\n",
    "    \n",
    "    xp, yp = stereoProject(np.zeros(res), s, np.ones(res))\n",
    "    plt.plot(xp, yp, 'k', lw=2)\n",
    "    plt.text(xp[res-1], yp[res-1]-0.005, '011', va='top', ha='center')\n",
    "    \n",
    "    xp, yp = stereoProject(t, np.ones(res), np.ones(res))\n",
    "    plt.plot(xp, yp, 'k', lw=2)\n",
    "    plt.text(xp[res-1], yp[res-1]+0.005, '-111', va='bottom', ha='center')\n",
    "\n",
    "    plt.axis('equal')\n",
    "    plt.axis('off')"
   ]
  },
  {
   "cell_type": "code",
   "execution_count": 116,
   "metadata": {
    "collapsed": false,
    "deletable": true,
    "editable": true
   },
   "outputs": [],
   "source": [
    "def plotIPFAxisHex():\n",
    "    res = 100\n",
    "    s = np.linspace(0, 1, res)\n",
    "    t = np.linspace(0, -1, res)\n",
    "    \n",
    "    xp, yp = stereoProject(s, np.zeros(res), s[::-1])\n",
    "    plt.plot(xp, yp, 'k', lw=2)\n",
    "#     plt.text(xp[0], yp[0]-0.005, '001', va='top', ha='center')\n",
    "    \n",
    "    xp, yp = stereoProject(2 * s, s, s[::-1])\n",
    "    plt.plot(xp, yp, 'k', lw=2)\n",
    "#     plt.text(xp[res-1], yp[res-1]-0.005, '011', va='top', ha='center')\n",
    "    \n",
    "#     xp, yp = stereoProject(t, np.ones(res), np.ones(res))\n",
    "#     plt.plot(xp, yp, 'k', lw=2)\n",
    "#     plt.text(xp[res-1], yp[res-1]+0.005, '-111', va='bottom', ha='center')\n",
    "\n",
    "    plt.axis('equal')\n",
    "    plt.axis('off')\n",
    "    \n",
    "plotIPFAxisHex()"
   ]
  },
  {
   "cell_type": "code",
   "execution_count": 123,
   "metadata": {
    "collapsed": false,
    "deletable": true,
    "editable": true
   },
   "outputs": [],
   "source": [
    "s = np.linspace(0, 1, 100)\n",
    "t = np.linspace(0, -1, 100)\n",
    "\n",
    "xp, yp = stereoProject(t, s, np.ones(100))\n",
    "plt.plot(xp, yp)\n",
    "xp, yp = stereoProject(np.zeros(100), s, np.ones(100))\n",
    "plt.plot(xp, yp)\n",
    "xp, yp = stereoProject(t, np.ones(100), np.ones(100))\n",
    "plt.plot(xp, yp)\n",
    "\n",
    "xp, yp = stereoProject(t, np.ones(100), s)\n",
    "plt.plot(xp, yp)\n",
    "xp, yp = stereoProject(np.zeros(100), np.ones(100), s)\n",
    "plt.plot(xp, yp)\n",
    "\n",
    "xp, yp = stereoProject(-np.ones(100), np.ones(100), s)\n",
    "plt.plot(xp, yp)\n",
    "xp, yp = stereoProject(t, np.ones(100), np.zeros(100))\n",
    "plt.plot(xp, yp)\n",
    "\n",
    "\n",
    "xp, yp = stereoProject(t, np.zeros(100), np.ones(100))\n",
    "plt.plot(xp, yp)\n",
    "xp, yp = stereoProject(-np.ones(100), s, np.ones(100))\n",
    "plt.plot(xp, yp)\n",
    "\n",
    "xp, yp = stereoProject(-np.ones(100), np.zeros(100), s)\n",
    "plt.plot(xp, yp)\n",
    "xp, yp = stereoProject(-np.ones(100), s, s)\n",
    "plt.plot(xp, yp)\n",
    "\n",
    "xp, yp = stereoProject(-np.ones(100), s, np.zeros(100))\n",
    "plt.plot(xp, yp)\n",
    "\n",
    "\n",
    "xp, yp = stereoProject(t, t, np.ones(100))\n",
    "plt.plot(xp, yp)\n",
    "xp, yp = stereoProject(-np.ones(100), t, np.ones(100))\n",
    "plt.plot(xp, yp)\n",
    "\n",
    "xp, yp = stereoProject(-np.ones(100), t, s)\n",
    "plt.plot(xp, yp)\n",
    "\n",
    "xp, yp = stereoProject(-np.ones(100), -np.ones(100), s)\n",
    "plt.plot(xp, yp)\n",
    "xp, yp = stereoProject(-np.ones(100), t, np.zeros(100))\n",
    "plt.plot(xp, yp)\n",
    "\n",
    "\n",
    "xp, yp = stereoProject(np.zeros(100), t, np.ones(100))\n",
    "plt.plot(xp, yp)\n",
    "xp, yp = stereoProject(t, -np.ones(100), np.ones(100))\n",
    "plt.plot(xp, yp)\n",
    "\n",
    "xp, yp = stereoProject(np.zeros(100), -np.ones(100), s)\n",
    "plt.plot(xp, yp)\n",
    "xp, yp = stereoProject(t, -np.ones(100), s)\n",
    "plt.plot(xp, yp)\n",
    "\n",
    "xp, yp = stereoProject(t, -np.ones(100), np.zeros(100))\n",
    "plt.plot(xp, yp)\n",
    "\n",
    "\n",
    "\n",
    "plt.axis('equal')\n",
    "plt.show()"
   ]
  },
  {
   "cell_type": "code",
   "execution_count": null,
   "metadata": {
    "collapsed": false,
    "deletable": true,
    "editable": true
   },
   "outputs": [],
   "source": []
  },
  {
   "cell_type": "code",
   "execution_count": null,
   "metadata": {
    "collapsed": true,
    "deletable": true,
    "editable": true
   },
   "outputs": [],
   "source": []
  },
  {
   "cell_type": "code",
   "execution_count": null,
   "metadata": {
    "collapsed": true,
    "deletable": true,
    "editable": true
   },
   "outputs": [],
   "source": []
  },
  {
   "cell_type": "code",
   "execution_count": null,
   "metadata": {
    "collapsed": true,
    "deletable": true,
    "editable": true
   },
   "outputs": [],
   "source": []
  },
  {
   "cell_type": "code",
   "execution_count": null,
   "metadata": {
    "collapsed": true,
    "deletable": true,
    "editable": true
   },
   "outputs": [],
   "source": []
  },
  {
   "cell_type": "code",
   "execution_count": null,
   "metadata": {
    "collapsed": true,
    "deletable": true,
    "editable": true
   },
   "outputs": [],
   "source": []
  },
  {
   "cell_type": "code",
   "execution_count": null,
   "metadata": {
    "collapsed": true,
    "deletable": true,
    "editable": true
   },
   "outputs": [],
   "source": []
  },
  {
   "cell_type": "code",
   "execution_count": 23,
   "metadata": {
    "collapsed": false,
    "deletable": true,
    "editable": true
   },
   "outputs": [],
   "source": [
    "def plot_IPFZ(euler_angles):\n",
    "    phi1_list,P_list,p2_list=euler_angles[0],euler_angles[1],euler_angles[2]\n",
    "    \n",
    "    cx_list,cy_list=[],[]\n",
    "    for p1,P,p2 in zip(phi1_list,P_list,p2_list):\n",
    "        angles=[p1,P,p2]\n",
    "        if sum(angles)>0:\n",
    "            cx_list.append(plot_pole_GZ(angles,rotations)[0][0]),cy_list.append(plot_pole_GZ(angles,rotations)[0][1])\n",
    "    return cx_list,cy_list"
   ]
  },
  {
   "cell_type": "code",
   "execution_count": 24,
   "metadata": {
    "collapsed": true,
    "deletable": true,
    "editable": true
   },
   "outputs": [],
   "source": [
    "def plot_IPFX(euler_angles):\n",
    "    phi1_list,P_list,p2_list=euler_angles[0],euler_angles[1],euler_angles[2]\n",
    "    \n",
    "    cx_list,cy_list=[],[]\n",
    "    for p1,P,p2 in zip(phi1_list,P_list,p2_list):\n",
    "        angles=[p1,P,p2]\n",
    "        if sum(angles)>0:\n",
    "            cx_list.append(plot_pole_GX(angles,rotations)[0][0]),cy_list.append(plot_pole_GX(angles,rotations)[0][1])\n",
    "    return cx_list,cy_list"
   ]
  },
  {
   "cell_type": "code",
   "execution_count": 25,
   "metadata": {
    "collapsed": true,
    "deletable": true,
    "editable": true
   },
   "outputs": [],
   "source": [
    "def plot_IPFY(euler_angles):\n",
    "    phi1_list,P_list,p2_list=euler_angles[0],euler_angles[1],euler_angles[2]\n",
    "    \n",
    "    cx_list,cy_list=[],[]\n",
    "    for p1,P,p2 in zip(phi1_list,P_list,p2_list):\n",
    "        angles=[p1,P,p2]\n",
    "        if sum(angles)>0:\n",
    "            cx_list.append(plot_pole_GY(angles,rotations)[0][0]),cy_list.append(plot_pole_GY(angles,rotations)[0][1])\n",
    "    return cx_list,cy_list"
   ]
  },
  {
   "cell_type": "code",
   "execution_count": null,
   "metadata": {
    "collapsed": true,
    "deletable": true,
    "editable": true
   },
   "outputs": [],
   "source": []
  },
  {
   "cell_type": "code",
   "execution_count": null,
   "metadata": {
    "collapsed": true,
    "deletable": true,
    "editable": true
   },
   "outputs": [],
   "source": []
  },
  {
   "cell_type": "markdown",
   "metadata": {
    "deletable": true,
    "editable": true
   },
   "source": [
    "## Load the data and define variables"
   ]
  },
  {
   "cell_type": "code",
   "execution_count": 26,
   "metadata": {
    "collapsed": true,
    "deletable": true,
    "editable": true
   },
   "outputs": [],
   "source": [
    "phi1s = np.loadtxt(\"./example_data_AH/ipf/newMap_grainMeanPhi1.txt\")\n",
    "phis = np.loadtxt(\"./example_data_AH/ipf/newMap_grainMeanPhi.txt\")\n",
    "phi2s = np.loadtxt(\"./example_data_AH/ipf/newMap_grainMeanPhi2.txt\")"
   ]
  },
  {
   "cell_type": "code",
   "execution_count": 27,
   "metadata": {
    "collapsed": true,
    "deletable": true,
    "editable": true
   },
   "outputs": [],
   "source": [
    "maxSSs = np.loadtxt(\"./example_data_AH/ipf/newMap_grainMaxSSMeans.txt\")\n",
    "misOris = np.loadtxt(\"./example_data_AH/ipf/newMap_grainMeanMisOris.txt\")"
   ]
  },
  {
   "cell_type": "code",
   "execution_count": 28,
   "metadata": {
    "collapsed": false,
    "deletable": true,
    "editable": true
   },
   "outputs": [],
   "source": [
    "euler_angles = [phi1s,phis,phi2s]"
   ]
  },
  {
   "cell_type": "code",
   "execution_count": 29,
   "metadata": {
    "collapsed": false,
    "deletable": true,
    "editable": true
   },
   "outputs": [
    {
     "data": {
      "text/plain": [
       "(3, 167)"
      ]
     },
     "execution_count": 29,
     "metadata": {},
     "output_type": "execute_result"
    }
   ],
   "source": [
    "np.shape(euler_angles)"
   ]
  },
  {
   "cell_type": "markdown",
   "metadata": {
    "deletable": true,
    "editable": true
   },
   "source": [
    "## Plot the IPF Z"
   ]
  },
  {
   "cell_type": "code",
   "execution_count": 30,
   "metadata": {
    "collapsed": true,
    "deletable": true,
    "editable": true
   },
   "outputs": [],
   "source": [
    "x_co,y_co=plot_IPFZ(euler_angles);"
   ]
  },
  {
   "cell_type": "code",
   "execution_count": 31,
   "metadata": {
    "collapsed": true,
    "deletable": true,
    "editable": true
   },
   "outputs": [],
   "source": [
    "strainVals = maxSSs\n",
    "misOriVals = misOris\n",
    "randomVals = np.random.rand(len(x_co))"
   ]
  },
  {
   "cell_type": "code",
   "execution_count": 32,
   "metadata": {
    "collapsed": false,
    "deletable": true,
    "editable": true
   },
   "outputs": [
    {
     "data": {
      "text/plain": [
       "<matplotlib.text.Text at 0x11dd2ad30>"
      ]
     },
     "execution_count": 32,
     "metadata": {},
     "output_type": "execute_result"
    },
    {
     "data": {
      "image/png": "[encoded data removed]",
      "text/plain": [
       "<matplotlib.figure.Figure at 0x11db95dd8>"
      ]
     },
     "metadata": {},
     "output_type": "display_data"
    }
   ],
   "source": [
    "xi,yi=IPF_axis_cubic(100)\n",
    "plt.plot(x_co,y_co,'r+')\n",
    "plt.title('IPF Z')"
   ]
  },
  {
   "cell_type": "code",
   "execution_count": 33,
   "metadata": {
    "collapsed": false,
    "deletable": true,
    "editable": true
   },
   "outputs": [
    {
     "data": {
      "image/png": "[encoded data removed]",
      "text/plain": [
       "<matplotlib.figure.Figure at 0x11dd1f3c8>"
      ]
     },
     "metadata": {},
     "output_type": "display_data"
    }
   ],
   "source": [
    "# load the IPFZ image from channel5 - see that it is the same\n",
    "img=mpimg.imread(\"./example_data_AH/ipf/ipfZChannel5.png\")\n",
    "imgplot = plt.imshow(img)\n",
    "plt.show()"
   ]
  },
  {
   "cell_type": "code",
   "execution_count": 34,
   "metadata": {
    "collapsed": false,
    "deletable": true,
    "editable": true,
    "scrolled": true
   },
   "outputs": [
    {
     "data": {
      "image/png": "[encoded data removed]",
      "text/plain": [
       "<matplotlib.figure.Figure at 0x11e3e5898>"
      ]
     },
     "metadata": {},
     "output_type": "display_data"
    }
   ],
   "source": [
    "f=plt.figure()\n",
    "xi,yi=IPF_axis_cubic(100)\n",
    "strain_points=plt.scatter(x_co, y_co, marker='.', s=80, c=strainVals, cmap=\"YlOrRd\",vmin=0.01,vmax=0.04,alpha=0.6)\n",
    "plt.colorbar(strain_points, label=\"HRDIC $\\epsilon_{eff}$ [ ]\",shrink=0.7)\n",
    "plt.title(\"IPF Z\")\n",
    "plt.show()"
   ]
  },
  {
   "cell_type": "markdown",
   "metadata": {
    "deletable": true,
    "editable": true
   },
   "source": [
    "## Plot the IPF X"
   ]
  },
  {
   "cell_type": "code",
   "execution_count": 35,
   "metadata": {
    "collapsed": true,
    "deletable": true,
    "editable": true
   },
   "outputs": [],
   "source": [
    "x_co,y_co=plot_IPFX(euler_angles);"
   ]
  },
  {
   "cell_type": "code",
   "execution_count": 36,
   "metadata": {
    "collapsed": false,
    "deletable": true,
    "editable": true
   },
   "outputs": [
    {
     "data": {
      "text/plain": [
       "<matplotlib.text.Text at 0x11edc8400>"
      ]
     },
     "execution_count": 36,
     "metadata": {},
     "output_type": "execute_result"
    },
    {
     "data": {
      "image/png": "[encoded data removed]",
      "text/plain": [
       "<matplotlib.figure.Figure at 0x11e3e5eb8>"
      ]
     },
     "metadata": {},
     "output_type": "display_data"
    }
   ],
   "source": [
    "xi,yi=IPF_axis_cubic(100)\n",
    "plt.plot(x_co,y_co,'r+')\n",
    "plt.title('IPF X')"
   ]
  },
  {
   "cell_type": "code",
   "execution_count": 37,
   "metadata": {
    "collapsed": false,
    "deletable": true,
    "editable": true
   },
   "outputs": [
    {
     "data": {
      "image/png": "[encoded data removed]",
      "text/plain": [
       "<matplotlib.figure.Figure at 0x11e3edd68>"
      ]
     },
     "metadata": {},
     "output_type": "display_data"
    }
   ],
   "source": [
    "# load the IPFZ image from channel5 - see that it is the same\n",
    "img=mpimg.imread(\"./example_data_AH/ipf/ipfXChannel5.png\")\n",
    "imgplot = plt.imshow(img)\n",
    "plt.show()"
   ]
  },
  {
   "cell_type": "code",
   "execution_count": 38,
   "metadata": {
    "collapsed": false,
    "deletable": true,
    "editable": true,
    "scrolled": true
   },
   "outputs": [
    {
     "data": {
      "image/png": "[encoded data removed]",
      "text/plain": [
       "<matplotlib.figure.Figure at 0x11eef5fd0>"
      ]
     },
     "metadata": {},
     "output_type": "display_data"
    }
   ],
   "source": [
    "f=plt.figure()\n",
    "xi,yi=IPF_axis_cubic(100)\n",
    "strain_points=plt.scatter(x_co, y_co, marker='.', s=80,c=strainVals, cmap=\"YlOrRd\",vmin=0.01, vmax=0.04, alpha=0.6)\n",
    "plt.colorbar(strain_points, label=\"HRDIC $\\epsilon_{eff}$ [ ]\",shrink=0.7)\n",
    "plt.title(\"IPF X\")\n",
    "plt.show()"
   ]
  },
  {
   "cell_type": "code",
   "execution_count": null,
   "metadata": {
    "collapsed": false,
    "deletable": true,
    "editable": true
   },
   "outputs": [],
   "source": []
  },
  {
   "cell_type": "markdown",
   "metadata": {
    "deletable": true,
    "editable": true
   },
   "source": [
    "## Plot the IPF Y"
   ]
  },
  {
   "cell_type": "code",
   "execution_count": 39,
   "metadata": {
    "collapsed": false,
    "deletable": true,
    "editable": true
   },
   "outputs": [],
   "source": [
    "x_co,y_co=plot_IPFY(euler_angles);"
   ]
  },
  {
   "cell_type": "code",
   "execution_count": 40,
   "metadata": {
    "collapsed": false,
    "deletable": true,
    "editable": true
   },
   "outputs": [
    {
     "data": {
      "text/plain": [
       "<matplotlib.text.Text at 0x11f4cf780>"
      ]
     },
     "execution_count": 40,
     "metadata": {},
     "output_type": "execute_result"
    },
    {
     "data": {
      "image/png": "[encoded data removed]",
      "text/plain": [
       "<matplotlib.figure.Figure at 0x11f39d128>"
      ]
     },
     "metadata": {},
     "output_type": "display_data"
    }
   ],
   "source": [
    "xi,yi=IPF_axis_cubic(100)\n",
    "plt.plot(x_co,y_co,'r+')\n",
    "plt.title('IPF Y')"
   ]
  },
  {
   "cell_type": "code",
   "execution_count": 41,
   "metadata": {
    "collapsed": false,
    "deletable": true,
    "editable": true
   },
   "outputs": [
    {
     "data": {
      "image/png": "[encoded data removed]",
      "text/plain": [
       "<matplotlib.figure.Figure at 0x11f585588>"
      ]
     },
     "metadata": {},
     "output_type": "display_data"
    }
   ],
   "source": [
    "# load the IPFZ image from channel5 - see that it is NOT the same\n",
    "img=mpimg.imread(\"./example_data_AH/ipf/ipfYChannel5.png\")\n",
    "imgplot = plt.imshow(img)\n",
    "plt.show()"
   ]
  },
  {
   "cell_type": "code",
   "execution_count": 42,
   "metadata": {
    "collapsed": false,
    "deletable": true,
    "editable": true,
    "scrolled": true
   },
   "outputs": [
    {
     "data": {
      "image/png": "[encoded data removed]",
      "text/plain": [
       "<matplotlib.figure.Figure at 0x11f730f60>"
      ]
     },
     "metadata": {},
     "output_type": "display_data"
    }
   ],
   "source": [
    "f=plt.figure()\n",
    "xi,yi=IPF_axis_cubic(100)\n",
    "strain_points=plt.scatter(x_co, y_co, marker='o', s=20, c=strainVals, cmap=\"YlOrRd\", vmin=0.01,vmax=0.04, alpha = 0.6)\n",
    "plt.colorbar(strain_points, label=\"HRDIC $\\epsilon_{eff}$ [ ]\",shrink=0.7)\n",
    "plt.title(\"IPF Y\")\n",
    "plt.show()"
   ]
  },
  {
   "cell_type": "code",
   "execution_count": null,
   "metadata": {
    "collapsed": false,
    "deletable": true,
    "editable": true
   },
   "outputs": [],
   "source": []
  },
  {
   "cell_type": "code",
   "execution_count": null,
   "metadata": {
    "collapsed": true,
    "deletable": true,
    "editable": true
   },
   "outputs": [],
   "source": [
    "# To Do\n",
    "# - get IPFY to match channel 5\n",
    "# - contouring with respect to number density of data points (texture)\n",
    "# - contouring with respect to strain or misOri values"
   ]
  },
  {
   "cell_type": "code",
   "execution_count": null,
   "metadata": {
    "collapsed": true,
    "deletable": true,
    "editable": true
   },
   "outputs": [],
   "source": []
  }
 ],
 "metadata": {
  "kernelspec": {
   "display_name": "Python 3",
   "language": "python",
   "name": "python3"
  },
  "language_info": {
   "codemirror_mode": {
    "name": "ipython",
    "version": 3
   },
   "file_extension": ".py",
   "mimetype": "text/x-python",
   "name": "python",
   "nbconvert_exporter": "python",
   "pygments_lexer": "ipython3",
   "version": "3.5.3"
  }
 },
 "nbformat": 4,
 "nbformat_minor": 2
}
