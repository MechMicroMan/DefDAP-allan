{
 "cells": [
  {
   "cell_type": "markdown",
   "metadata": {},
   "source": [
    "# Calculate Taylor Factor (TF) and Schmid Factor (SF) of orientation(s) wrt. axisymmetric tensile deformation"
   ]
  },
  {
   "cell_type": "markdown",
   "metadata": {},
   "source": [
    "Uses grain refOri to calculate TF and SF"
   ]
  },
  {
   "cell_type": "markdown",
   "metadata": {},
   "source": [
    "## Import modules"
   ]
  },
  {
   "cell_type": "code",
   "execution_count": 25,
   "metadata": {},
   "outputs": [],
   "source": [
    "import numpy as np\n",
    "import matplotlib.pyplot as plt\n",
    "\n",
    "from skimage import transform as tf\n",
    "from skimage import io\n",
    "\n",
    "import hrdic\n",
    "import ebsd\n",
    "import quat\n",
    "\n",
    "import copy\n",
    "\n",
    "%matplotlib osx"
   ]
  },
  {
   "cell_type": "markdown",
   "metadata": {},
   "source": [
    "## Load DIC data"
   ]
  },
  {
   "cell_type": "code",
   "execution_count": 2,
   "metadata": {},
   "outputs": [
    {
     "name": "stdout",
     "output_type": "stream",
     "text": [
      "Loaded DaVis 8.1.5 data (dimensions: 1860 x 1628 pixels, sub-window size: 8 x 8 pixels)\n"
     ]
    }
   ],
   "source": [
    "#Load in DIC map\n",
    "DicFilePath = \"./example_data_AH/\"\n",
    "DicMap = hrdic.Map(DicFilePath, \"hrdicData.txt\")"
   ]
  },
  {
   "cell_type": "markdown",
   "metadata": {},
   "source": [
    "## Load EBSD data"
   ]
  },
  {
   "cell_type": "code",
   "execution_count": 3,
   "metadata": {},
   "outputs": [
    {
     "name": "stdout",
     "output_type": "stream",
     "text": [
      "Loaded EBSD data (dimensions: 612 x 465 pixels, step size: 0.5 um)\n",
      "Error with cpr file. Number of phases mismatch.\n",
      "Loaded EBSD data (dimensions: 612 x 465 pixels, step size: 0.5 um)\n",
      "Calculating grain misorientations...\r"
     ]
    }
   ],
   "source": [
    "mapFiles = [\"./example_data_AH/ebsdData\"]\n",
    "\n",
    "maps = []\n",
    "\n",
    "for i, mapFile in enumerate(mapFiles):\n",
    "    maps.append(ebsd.Map(mapFile, \"cubic\"))\n",
    "    maps[i].loadData(mapFile, \"cubic\")\n",
    "    maps[i].binData = maps[i].binData[::-1]  #rotate the map 180 degrees\n",
    "    maps[i].buildQuatArray()\n",
    "    maps[i].findBoundaries(boundDef = 6)\n",
    "    maps[i].findGrains(minGrainSize=10)\n",
    "    maps[i].calcGrainMisOri(calcAxis = True)"
   ]
  },
  {
   "cell_type": "markdown",
   "metadata": {},
   "source": [
    "## Link DIC and EBSD data"
   ]
  },
  {
   "cell_type": "code",
   "execution_count": 4,
   "metadata": {},
   "outputs": [
    {
     "name": "stdout",
     "output_type": "stream",
     "text": [
      "Finding grains in DIC map...\r"
     ]
    }
   ],
   "source": [
    "# load the disMap crop parameters\n",
    "DicMap.cropDists = np.loadtxt(\"./example_data_AH/dicMapCropDists.txt\")\n",
    "\n",
    "# set the dic map crop parameters\n",
    "DicMap.cropDists_temp=[]\n",
    "for p,q in DicMap.cropDists:\n",
    "    p,q = int(p),int(q)\n",
    "    DicMap.cropDists_temp.append([p,q])\n",
    "DicMap.cropDists_temp=np.array(DicMap.cropDists_temp)\n",
    "DicMap.cropDists=copy.deepcopy(DicMap.cropDists_temp)\n",
    "\n",
    "# define the crop\n",
    "DicMap.setCrop(xMin=DicMap.cropDists[0,0], xMax=DicMap.cropDists[0,1], yMin=DicMap.cropDists[1,0], yMax=DicMap.cropDists[1,1])\n",
    "\n",
    "# load and define the homogPoints\n",
    "DicMap.homogPoints = np.loadtxt(\"./example_data_AH/dicMapHomogPoints.txt\")\n",
    "maps[0].homogPoints = np.loadtxt(\"./example_data_AH/ebsdMapHomogPoints.txt\")\n",
    "\n",
    "# link the dic and ebsd data\n",
    "DicMap.linkEbsdMap(maps[0])\n",
    "\n",
    "# find the grains\n",
    "DicMap.findGrains(minGrainSize=1434)"
   ]
  },
  {
   "cell_type": "markdown",
   "metadata": {},
   "source": [
    "### Test the link has worked"
   ]
  },
  {
   "cell_type": "code",
   "execution_count": 9,
   "metadata": {},
   "outputs": [
    {
     "name": "stdout",
     "output_type": "stream",
     "text": [
      "Grain ID: 13\n"
     ]
    }
   ],
   "source": [
    "DicMap.locateGrainID()"
   ]
  },
  {
   "cell_type": "code",
   "execution_count": 10,
   "metadata": {},
   "outputs": [],
   "source": [
    "# test the link has worked\n",
    "grainNum = DicMap.currGrainId\n",
    "DicMap.grainList[grainNum].plotMaxShear()\n",
    "maps[0].grainList[DicMap.ebsdGrainIds[grainNum]].plotMisOri()"
   ]
  },
  {
   "cell_type": "markdown",
   "metadata": {
    "collapsed": true
   },
   "source": [
    "## Find the TF"
   ]
  },
  {
   "cell_type": "code",
   "execution_count": 45,
   "metadata": {
    "collapsed": true
   },
   "outputs": [],
   "source": [
    "def findPrincipleStresses(quats,eps):\n",
    "    \n",
    "    a=quats\n",
    "    \n",
    "    Q = quat.Quat.rotMatrix(a)\n",
    "    Q_T = np.transpose(Q)\n",
    "    \n",
    "    eps=np.array(eps)\n",
    "    Q_dot_eps=np.dot(Q,eps)\n",
    "    Q_dot_eps_dot_Q_T=np.dot(Q_dot_eps,Q_T)\n",
    "    \n",
    "    principleStresses=Q_dot_eps_dot_Q_T\n",
    "    \n",
    "    return principleStresses\n",
    "\n",
    "ebsd.Grain.findPrincipleStresses = findPrincipleStresses"
   ]
  },
  {
   "cell_type": "code",
   "execution_count": 42,
   "metadata": {},
   "outputs": [],
   "source": [
    "def calcTF(self,strain=1,epsMapStrain=False,grainEps=None,customEPS=None):\n",
    "    \n",
    "    quats=self.refOri\n",
    "    \n",
    "    if epsMapStrain:\n",
    "        \n",
    "        xMin=DicMap.cropDists[0,0]\n",
    "        xMax=DicMap.cropDists[0,1]\n",
    "        yMin=DicMap.cropDists[1,0]\n",
    "        yMax=DicMap.cropDists[1,1]\n",
    "\n",
    "        meanU11=np.mean(DicMap.f11[yMin:-yMax,xMin:-xMax])\n",
    "        meanU22=np.mean(DicMap.f22[yMin:-yMax,xMin:-xMax])\n",
    "\n",
    "        normU11=meanU11/meanU11\n",
    "        normU22=meanU22/meanU11\n",
    "        normU33=-1*(1+normU22)\n",
    "        \n",
    "        eps=np.array([[normU11,0,0],[0,normU22,0],[0,0,normU33]])\n",
    "        n = strain # tensile strain in x direction\n",
    "        eps = [[j*n for j in i] for i in eps]\n",
    "        \n",
    "    elif grainEps is not None:\n",
    "        eps=grainEps\n",
    "        n = strain # tensile strain in x direction\n",
    "        eps = [[j*n for j in i] for i in eps]   \n",
    "        \n",
    "    elif customEPS is not None:\n",
    "        eps=customEPS\n",
    "        n = strain\n",
    "        eps = [[j*n for j in i] for i in eps] \n",
    "    \n",
    "    else:\n",
    "        eps=np.array([[1,0,0],[0,-0.5,0],[0,0,-0.5]])\n",
    "        n = strain # tensile strain in x direction\n",
    "        eps = [[j*n for j in i] for i in eps]\n",
    "\n",
    "    # Burgers vector\n",
    "    sS_b_symmeterise = np.array(\n",
    "        [\n",
    "            [0,1,-1],\n",
    "            [-1,0,1],  \n",
    "            [1,-1,0],  \n",
    "            [0,-1,1], \n",
    "            [1,0,-1], \n",
    "            [-1,1,0],\n",
    "\n",
    "            [1,-1,0],  \n",
    "            [1,0,1],  \n",
    "            [0,1,1],   \n",
    "            [-1,0,-1],   \n",
    "            [0,-1,-1],  \n",
    "            [-1,1,0],  \n",
    "\n",
    "            [0,1,-1], \n",
    "            [1,0,1], \n",
    "            [1,1,0], \n",
    "            [-1,0,-1], \n",
    "            [-1,-1,0], \n",
    "            [0,-1,1], \n",
    "\n",
    "            [-1,0,1],\n",
    "            [1,1,0],   \n",
    "            [0,1,1],   \n",
    "            [-1,-1,0],  \n",
    "            [0,-1,-1],  \n",
    "            [1,0,-1]\n",
    "        ]\n",
    "    )\n",
    "\n",
    "    # slip plane\n",
    "    sS_n_symmeterise = np.array(\n",
    "        [\n",
    "            [1,1,1],\n",
    "            [1,1,1],\n",
    "            [1,1,1],\n",
    "            [1,1,1],\n",
    "            [1,1,1],\n",
    "            [1,1,1],\n",
    "\n",
    "            [1,1,-1],\n",
    "            [1,1,-1],\n",
    "            [1,1,-1],\n",
    "            [1,1,-1],\n",
    "            [1,1,-1],\n",
    "            [1,1,-1],\n",
    "\n",
    "            [-1,1,1],\n",
    "            [-1,1,1],\n",
    "            [-1,1,1],\n",
    "            [-1,1,1],\n",
    "            [-1,1,1],\n",
    "            [-1,1,1],\n",
    "\n",
    "            [1,-1,1],\n",
    "            [1,-1,1],\n",
    "            [1,-1,1],\n",
    "            [1,-1,1],\n",
    "            [1,-1,1],\n",
    "            [1,-1,1]\n",
    "        ]\n",
    "    )\n",
    "\n",
    "\n",
    "    eps = findPrincipleStresses(quats,eps)\n",
    "    \n",
    "    # calculate the deformation tensor for each sS\n",
    "    sSeps_list=[]\n",
    "\n",
    "    for b,n in zip(sS_b_symmeterise,sS_n_symmeterise):\n",
    "\n",
    "        sS_b_norm = np.sqrt((b[0])**2 + (b[1])**2 + (b[2])**2)\n",
    "        sS_b_normalise = b/sS_b_norm\n",
    "\n",
    "        sS_n_norm = np.sqrt((n[0])**2 + (n[1])**2 + (n[2])**2)\n",
    "        sS_n_normalise = n/sS_n_norm\n",
    "\n",
    "        sSeps=np.tensordot(sS_b_normalise,sS_n_normalise,0)\n",
    "\n",
    "        sSeps_list.append(sSeps)\n",
    "    \n",
    "    # initialise b\n",
    "    b = np.zeros((1,len(sSeps_list)))\n",
    "\n",
    "    # define CRSS for each sS\n",
    "    CRSS = np.ones((len(sSeps_list),1))\n",
    "    \n",
    "    # reshape the deformation tensor\n",
    "    A = []\n",
    "    for sSep in sSeps_list:\n",
    "        val_list = (0.5*(sSep+np.transpose(sSep)))\n",
    "        val_list = val_list.flatten().tolist()\n",
    "        A.append(val_list)\n",
    "    \n",
    "    # select 5 independent strain components from deformation tensor\n",
    "    A_select=[]\n",
    "    for i in A:\n",
    "        As = i[0:3] + i[4:6]\n",
    "        A_select.append(As)\n",
    "    A = A_select\n",
    "    A_T = np.transpose(A)\n",
    "    \n",
    "    # reshape strain coefficents\n",
    "    y = eps.flatten().tolist()\n",
    "\n",
    "    # select same 5 coefficients to match the independent 5 strain components\n",
    "    y = y[0:3] + y[4:6]\n",
    "    \n",
    "    # relate the sS deformation tensor components to the orientation strain components with coefficient b\n",
    "    # i.e., solve for b in A*b=y such that CRSS*b is minimal\n",
    "    from scipy import optimize as opt\n",
    "    for i in range(len(y)):\n",
    "        b = opt.linprog(CRSS.flatten(), \n",
    "            A_eq=A_T, \n",
    "            b_eq=y, \n",
    "            bounds=[],\n",
    "            method='simplex', \n",
    "            #callback=None, \n",
    "            #options={'disp': False, 'bland': False, 'tol': 1e-12, 'maxiter': 1000}\n",
    "                       )\n",
    "    # Taylor factor is then the sum of the coeffiencents b\n",
    "    taylorFactor=b[\"fun\"]\n",
    "    \n",
    "    return taylorFactor\n",
    "\n",
    "ebsd.Grain.calcTF=calcTF"
   ]
  },
  {
   "cell_type": "code",
   "execution_count": 47,
   "metadata": {},
   "outputs": [
    {
     "data": {
      "text/plain": [
       "3.1510538438050641"
      ]
     },
     "execution_count": 47,
     "metadata": {},
     "output_type": "execute_result"
    }
   ],
   "source": [
    "# test for one grain\n",
    "maps[0].grainList[DicMap.ebsdGrainIds[DicMap.currGrainId]].calcTF()"
   ]
  },
  {
   "cell_type": "code",
   "execution_count": 49,
   "metadata": {},
   "outputs": [],
   "source": [
    "# calc TF for each grain\n",
    "TFs=[]\n",
    "for grain in maps[0].grainList:\n",
    "    TF = grain.calcTF()\n",
    "    TFs.append(TF)"
   ]
  },
  {
   "cell_type": "code",
   "execution_count": 50,
   "metadata": {},
   "outputs": [
    {
     "data": {
      "text/plain": [
       "<matplotlib.text.Text at 0x14ba3ea58>"
      ]
     },
     "execution_count": 50,
     "metadata": {},
     "output_type": "execute_result"
    }
   ],
   "source": [
    "# plot histogram of values\n",
    "TF_hist=plt.hist(TFs,bins=20)\n",
    "plt.xlabel(\"TF [  ]\")\n",
    "plt.ylabel(\"Number of grains\")"
   ]
  },
  {
   "cell_type": "markdown",
   "metadata": {},
   "source": [
    "## SFs"
   ]
  },
  {
   "cell_type": "code",
   "execution_count": 35,
   "metadata": {},
   "outputs": [
    {
     "name": "stdout",
     "output_type": "stream",
     "text": [
      "Calculating grain average Schmid factors...\r"
     ]
    }
   ],
   "source": [
    "# calc SFs\n",
    "maps[0].loadSlipSystems(\"./slip_systems/cubic.txt\")\n",
    "maps[0].calcAverageGrainSchmidFactors(loadVector=np.array([1, 0, 0]))"
   ]
  },
  {
   "cell_type": "code",
   "execution_count": 36,
   "metadata": {
    "collapsed": true
   },
   "outputs": [],
   "source": [
    "# record max SF for each grain\n",
    "SFs=[]\n",
    "for grain in maps[0].grainList:\n",
    "    SF=np.max(grain.averageSchmidFactors)\n",
    "    SFs.append(SF)"
   ]
  },
  {
   "cell_type": "code",
   "execution_count": 37,
   "metadata": {},
   "outputs": [
    {
     "data": {
      "text/plain": [
       "<matplotlib.text.Text at 0x14b873ac8>"
      ]
     },
     "execution_count": 37,
     "metadata": {},
     "output_type": "execute_result"
    }
   ],
   "source": [
    "# plot histogram of values\n",
    "SF_hist=plt.hist(SFs,bins=20)\n",
    "plt.xlabel(\"SF [  ]\")\n",
    "plt.ylabel(\"Number of grains\")"
   ]
  },
  {
   "cell_type": "code",
   "execution_count": null,
   "metadata": {
    "collapsed": true
   },
   "outputs": [],
   "source": []
  }
 ],
 "metadata": {
  "kernelspec": {
   "display_name": "Python 3",
   "language": "python",
   "name": "python3"
  },
  "language_info": {
   "codemirror_mode": {
    "name": "ipython",
    "version": 3
   },
   "file_extension": ".py",
   "mimetype": "text/x-python",
   "name": "python",
   "nbconvert_exporter": "python",
   "pygments_lexer": "ipython3",
   "version": "3.6.1"
  }
 },
 "nbformat": 4,
 "nbformat_minor": 2
}
