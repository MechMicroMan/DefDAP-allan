{
 "cells": [
  {
   "cell_type": "markdown",
   "metadata": {},
   "source": [
    "# Grain-level analysis"
   ]
  },
  {
   "cell_type": "markdown",
   "metadata": {},
   "source": [
    "Notes"
   ]
  },
  {
   "cell_type": "markdown",
   "metadata": {},
   "source": [
    "## Import modules"
   ]
  },
  {
   "cell_type": "code",
   "execution_count": 2,
   "metadata": {
    "collapsed": true
   },
   "outputs": [],
   "source": [
    "import numpy as np\n",
    "import matplotlib.pyplot as plt\n",
    "\n",
    "from skimage import transform as tf\n",
    "from skimage import io\n",
    "\n",
    "import hrdic\n",
    "import ebsd\n",
    "\n",
    "import copy\n",
    "\n",
    "%matplotlib osx"
   ]
  },
  {
   "cell_type": "markdown",
   "metadata": {},
   "source": [
    "## Load DIC data"
   ]
  },
  {
   "cell_type": "code",
   "execution_count": 4,
   "metadata": {},
   "outputs": [
    {
     "name": "stdout",
     "output_type": "stream",
     "text": [
      "Loaded DaVis 8.1.5 data (dimensions: 1860 x 1628 pixels, sub-window size: 8 x 8 pixels)\n"
     ]
    }
   ],
   "source": [
    "#Load in DIC map\n",
    "DicFilePath = \"./example_data_AH/\"\n",
    "DicMap = hrdic.Map(DicFilePath, \"hrdicData.txt\")"
   ]
  },
  {
   "cell_type": "markdown",
   "metadata": {},
   "source": [
    "## Load EBSD data"
   ]
  },
  {
   "cell_type": "code",
   "execution_count": 5,
   "metadata": {},
   "outputs": [
    {
     "name": "stdout",
     "output_type": "stream",
     "text": [
      "Loaded EBSD data (dimensions: 612 x 465 pixels, step size: 0.5 um)\n",
      "Error with cpr file. Number of phases mismatch.\n",
      "Loaded EBSD data (dimensions: 612 x 465 pixels, step size: 0.5 um)\n",
      "Calculating grain misorientations...\r"
     ]
    }
   ],
   "source": [
    "mapFiles = [\"./example_data_AH/ebsdData\"]\n",
    "\n",
    "maps = []\n",
    "\n",
    "for i, mapFile in enumerate(mapFiles):\n",
    "    maps.append(ebsd.Map(mapFile, \"cubic\"))\n",
    "    maps[i].loadData(mapFile, \"cubic\")\n",
    "    maps[i].binData = maps[i].binData[::-1]  #rotate the map 180 degrees\n",
    "    maps[i].buildQuatArray()\n",
    "    maps[i].findBoundaries(boundDef = 6)\n",
    "    maps[i].findGrains(minGrainSize=10)\n",
    "    maps[i].calcGrainMisOri(calcAxis = True)"
   ]
  },
  {
   "cell_type": "markdown",
   "metadata": {},
   "source": [
    "## Link DIC and EBSD data"
   ]
  },
  {
   "cell_type": "code",
   "execution_count": 9,
   "metadata": {},
   "outputs": [
    {
     "name": "stdout",
     "output_type": "stream",
     "text": [
      "Finding grains in DIC map...\r"
     ]
    }
   ],
   "source": [
    "# load the disMap crop parameters\n",
    "DicMap.cropDists = np.loadtxt(\"./example_data_AH/dicMapCropDists.txt\")\n",
    "\n",
    "# set the dic map crop parameters\n",
    "DicMap.cropDists_temp=[]\n",
    "for p,q in DicMap.cropDists:\n",
    "    p,q = int(p),int(q)\n",
    "    DicMap.cropDists_temp.append([p,q])\n",
    "DicMap.cropDists_temp=np.array(DicMap.cropDists_temp)\n",
    "DicMap.cropDists=copy.deepcopy(DicMap.cropDists_temp)\n",
    "\n",
    "# define the crop\n",
    "DicMap.setCrop(xMin=DicMap.cropDists[0,0], xMax=DicMap.cropDists[0,1], yMin=DicMap.cropDists[1,0], yMax=DicMap.cropDists[1,1])\n",
    "\n",
    "# load and define the homogPoints\n",
    "DicMap.homogPoints = np.loadtxt(\"./example_data_AH/dicMapHomogPoints.txt\")\n",
    "maps[0].homogPoints = np.loadtxt(\"./example_data_AH/ebsdMapHomogPoints.txt\")\n",
    "\n",
    "# link the dic and ebsd data\n",
    "DicMap.linkEbsdMap(maps[0])\n",
    "\n",
    "# find the grains\n",
    "DicMap.findGrains(minGrainSize=1434)"
   ]
  },
  {
   "cell_type": "markdown",
   "metadata": {},
   "source": [
    "### Test the link has worked"
   ]
  },
  {
   "cell_type": "code",
   "execution_count": 10,
   "metadata": {},
   "outputs": [
    {
     "name": "stdout",
     "output_type": "stream",
     "text": [
      "Grain ID: 55\n"
     ]
    }
   ],
   "source": [
    "DicMap.locateGrainID()"
   ]
  },
  {
   "cell_type": "code",
   "execution_count": 11,
   "metadata": {
    "collapsed": true
   },
   "outputs": [],
   "source": [
    "# test the link has worked\n",
    "grainNum = DicMap.currGrainId\n",
    "DicMap.grainList[grainNum].plotMaxShear()\n",
    "maps[0].grainList[DicMap.ebsdGrainIds[grainNum]].plotMisOri()"
   ]
  },
  {
   "cell_type": "markdown",
   "metadata": {},
   "source": [
    "## Plot correlation between DIC and EBSD data"
   ]
  },
  {
   "cell_type": "code",
   "execution_count": 13,
   "metadata": {
    "collapsed": true
   },
   "outputs": [],
   "source": [
    "# Define the DicMap pixel resolution in order to obtain grain size information\n",
    "DicMap.pixelResolution = 0.117 # um"
   ]
  },
  {
   "cell_type": "code",
   "execution_count": 14,
   "metadata": {
    "collapsed": true
   },
   "outputs": [],
   "source": [
    "# plot data correlation function\n",
    "def plotCorrelation(dicSelf,ebsdSelf,grainDiameter=False):\n",
    "    plt.figure()\n",
    "    for i,grain in enumerate(dicSelf):\n",
    "        x = np.nanmean(grain.maxShearList)\n",
    "        y = np.nanmean((np.arccos(ebsdSelf.grainList[dicSelf.ebsdGrainIds[i]].misOriList))*180/np.pi)\n",
    "        if grainDiameter:\n",
    "            area = len(grain.maxShearList)\n",
    "            diameter = ((area/np.pi)**0.5)*2*dicSelf.pixelResolution # um\n",
    "            plt.scatter(x,y,c=diameter,s=diameter,vmin=20,vmax=40,cmap=\"viridis\")\n",
    "        else:\n",
    "            plt.scatter(x,y,c=\"grey\")\n",
    "    if grainDiameter:    \n",
    "        plt.colorbar(label=\"Grain diameter [$\\\\mu$ m]\", shrink=0.8)\n",
    "    plt.xlabel(\"HRDIC strain, $\\epsilon_{eff}$ [ ]\")\n",
    "    plt.ylabel(\"EBSD misorientation, $\\phi$ [ $^o$ ]\")"
   ]
  },
  {
   "cell_type": "code",
   "execution_count": 15,
   "metadata": {
    "collapsed": true
   },
   "outputs": [],
   "source": [
    "# plot the correlation\n",
    "plotCorrelation(DicMap,maps[0],grainDiameter=True)"
   ]
  },
  {
   "cell_type": "markdown",
   "metadata": {},
   "source": [
    "## Find the strain heterogeneity within the grain"
   ]
  },
  {
   "cell_type": "code",
   "execution_count": 36,
   "metadata": {},
   "outputs": [],
   "source": [
    "def findEffStrainLocalisationGradient(self,plotData = False):\n",
    "    \n",
    "    meanEffStrain = np.nanmean(self.maxShearList)\n",
    "    hist = np.histogram(np.asarray(self.maxShearList)/meanEffStrain,bins=100)\n",
    "    x = 0.5*(hist[1][1:]+hist[1][:-1])\n",
    "    y = hist[0]/np.nansum(hist[0])\n",
    "    \n",
    "    # find maximum\n",
    "    maxValIdx=np.argmax(y)\n",
    "    xAtMaxVal=x[maxValIdx]\n",
    "    yAtMaxVal=y[maxValIdx]\n",
    "    \n",
    "    # find minimum after maximum value\n",
    "    for xVal,yVal in zip(x[maxValIdx:],y[maxValIdx:]):\n",
    "        if yVal < 0.005:\n",
    "            break\n",
    "    xAtMinVal=xVal\n",
    "    yAtMinVal=yVal\n",
    "    \n",
    "    # plt the data\n",
    "    if plotData:\n",
    "\n",
    "        plt.figure()\n",
    "        plt.plot(x,y,\"-\")\n",
    "        plt.xscale(\"log\")\n",
    "        plt.plot(xAtMaxVal,yAtMaxVal,\"o\")\n",
    "        plt.plot(xAtMinVal,yAtMinVal,\"o\")\n",
    "        print(\"x at max y = \" + str(xAtMaxVal))\n",
    "        print(\"x at min y = \" + str(xAtMinVal))\n",
    "        \n",
    "    # find the gradient\n",
    "    effStrainLocGradient=(yAtMaxVal-yAtMinVal)/(xAtMaxVal-xAtMinVal)\n",
    "    \n",
    "    self.effStrainLocGradient = effStrainLocGradient\n",
    "\n",
    "hrdic.Grain.findEffStrainLocalisationGradient = findEffStrainLocalisationGradient"
   ]
  },
  {
   "cell_type": "code",
   "execution_count": 37,
   "metadata": {},
   "outputs": [],
   "source": [
    "DicMap.grainList[32].findEffStrainLocalisationGradient(plotData=False)"
   ]
  },
  {
   "cell_type": "markdown",
   "metadata": {},
   "source": [
    "### Do for all grains and plot"
   ]
  },
  {
   "cell_type": "code",
   "execution_count": 39,
   "metadata": {
    "collapsed": true
   },
   "outputs": [],
   "source": [
    "for grain in DicMap.grainList:\n",
    "    grain.findEffStrainLocalisationGradient(plotData=False)"
   ]
  },
  {
   "cell_type": "code",
   "execution_count": 43,
   "metadata": {},
   "outputs": [
    {
     "data": {
      "text/plain": [
       "0.47548536889262372"
      ]
     },
     "execution_count": 43,
     "metadata": {},
     "output_type": "execute_result"
    }
   ],
   "source": [
    "np.nanmean((np.arccos(maps[0].grainList[DicMap.ebsdGrainIds[32]].misOriList))*180/np.pi)"
   ]
  },
  {
   "cell_type": "code",
   "execution_count": 49,
   "metadata": {},
   "outputs": [
    {
     "data": {
      "text/plain": [
       "<matplotlib.text.Text at 0x162485b00>"
      ]
     },
     "execution_count": 49,
     "metadata": {},
     "output_type": "execute_result"
    }
   ],
   "source": [
    "plt.figure()\n",
    "\n",
    "for i,grain in enumerate(DicMap.grainList):\n",
    "    \n",
    "    i_ebsd = DicMap.ebsdGrainIds[i]\n",
    "    \n",
    "    meanEffStrain = np.nanmean(grain.maxShearList)\n",
    "    meanMisOri = np.nanmean((np.arccos(maps[0].grainList[DicMap.ebsdGrainIds[i]].misOriList))*180/np.pi)\n",
    "    effStrainLocGrad = grain.effStrainLocGradient\n",
    "        \n",
    "    plt.scatter(meanEffStrain,effStrainLocGrad,c=meanMisOri,vmin=0,vmax=1,cmap=\"viridis\")\n",
    "    \n",
    "plt.colorbar(shrink=0.8,label=\"EBSD GROD Mean [ $^o$ ]\")\n",
    "plt.xlabel(\"HRDIC strain, $\\\\epsilon_{eff}$ [  ]\")\n",
    "plt.ylabel(\"$\\\\epsilon_{eff}$ distribution gradient [  ]\")"
   ]
  },
  {
   "cell_type": "markdown",
   "metadata": {},
   "source": [
    "## Deformation at boundaries relative to the grain centroid: EBSD misOri"
   ]
  },
  {
   "cell_type": "markdown",
   "metadata": {},
   "source": [
    "#### Calculate GB proxigram"
   ]
  },
  {
   "cell_type": "code",
   "execution_count": 50,
   "metadata": {
    "collapsed": true
   },
   "outputs": [],
   "source": [
    "def calcProxiGram(self):\n",
    "    indexBoundaries = []\n",
    "    for index, value in np.ndenumerate(self.boundaries):\n",
    "        if value == -1:\n",
    "            indexBoundaries.append(index)\n",
    "\n",
    "    proxBoundaries = np.copy(self.boundaries[:,:])\n",
    "\n",
    "    numTrials = 1000\n",
    "    trialDistances = np.ones((numTrials+1, proxBoundaries.shape[0], proxBoundaries.shape[1]))*1000\n",
    "\n",
    "    # array of x and y coordinate of each pixel in the map\n",
    "    coords = np.zeros((2, proxBoundaries.shape[0], proxBoundaries.shape[1]))\n",
    "    for index, value in np.ndenumerate(proxBoundaries):\n",
    "        coords[0, index[0], index[1]] = index[0]\n",
    "        coords[1, index[0], index[1]] = index[1]\n",
    "\n",
    "    # loop over each boundary point (p) and calcuale distance from p to all points in the map\n",
    "    # once numTrails have been made the minimum of them will be found and stored\n",
    "    j=1\n",
    "    for indexBoundary in indexBoundaries:    \n",
    "        trialDistances[j] = np.sqrt((coords[0] - indexBoundary[0])**2 + (coords[1] - indexBoundary[1])**2)\n",
    "\n",
    "        if j==numTrials:\n",
    "            trialDistances[0] = trialDistances.min(axis=0)\n",
    "            j=0\n",
    "        j+=1\n",
    "\n",
    "    # find minimum distance to a boundary\n",
    "    minDistances = trialDistances.min(axis=0)\n",
    "    \n",
    "    self.GBProxigram=minDistances\n",
    "\n",
    "ebsd.Map.calcProxiGram=calcProxiGram"
   ]
  },
  {
   "cell_type": "code",
   "execution_count": 51,
   "metadata": {
    "collapsed": true
   },
   "outputs": [],
   "source": [
    "maps[0].calcProxiGram()"
   ]
  },
  {
   "cell_type": "markdown",
   "metadata": {},
   "source": [
    "#### Plot proxigram map"
   ]
  },
  {
   "cell_type": "code",
   "execution_count": 203,
   "metadata": {
    "collapsed": true
   },
   "outputs": [],
   "source": [
    "def plotGBProxiGramMap(self):\n",
    "    plt.figure()\n",
    "    plt.imshow(self.GBProxigram*self.stepSize)\n",
    "    plt.colorbar(label=\"Proximity to nearest GB [$\\\\mu$ m]\",shrink=0.8)\n",
    "\n",
    "ebsd.Map.plotGBProxiGramMap=plotGBProxiGramMap"
   ]
  },
  {
   "cell_type": "code",
   "execution_count": 204,
   "metadata": {
    "collapsed": true
   },
   "outputs": [],
   "source": [
    "maps[0].plotGBProxiGramMap()"
   ]
  },
  {
   "cell_type": "markdown",
   "metadata": {},
   "source": [
    "#### Get proxigram for individual grain"
   ]
  },
  {
   "cell_type": "code",
   "execution_count": 55,
   "metadata": {
    "collapsed": true
   },
   "outputs": [],
   "source": [
    "def getGrainGBProxiGram(self,GBProxiGramMap=maps[0].GBProxigram):\n",
    "    GBProxiGramList = []\n",
    "    for coord in self.coordList:\n",
    "        GBProxiGramVal = GBProxiGramMap[coord[1],coord[0]]\n",
    "        GBProxiGramList.append(GBProxiGramVal)\n",
    "    self.GBProxiGramList=GBProxiGramList\n",
    "\n",
    "ebsd.Grain.getGrainGBProxiGram=getGrainGBProxiGram"
   ]
  },
  {
   "cell_type": "code",
   "execution_count": 56,
   "metadata": {
    "collapsed": true
   },
   "outputs": [],
   "source": [
    "for grain in maps[0].grainList:\n",
    "    grain.getGrainGBProxiGram()"
   ]
  },
  {
   "cell_type": "markdown",
   "metadata": {},
   "source": [
    "#### Plot grain proxigram"
   ]
  },
  {
   "cell_type": "code",
   "execution_count": 207,
   "metadata": {
    "collapsed": true
   },
   "outputs": [],
   "source": [
    "def plotGBProxigram(self):    \n",
    "    plt.figure()\n",
    "    x0, y0, xmax, ymax = self.extremeCoords\n",
    "#     x0, y0, xmax, ymax = int(x0), int(y0), int(xmax), int(ymax)\n",
    "    plotArea = np.full((ymax - y0 + 1, xmax - x0 + 1), np.nan, dtype=float)\n",
    "    plotData = self.GBProxiGramList\n",
    "    coord0s,coord1s=[],[]\n",
    "    for coord0,coord1 in self.coordList:\n",
    "        coord0s.append(coord0)\n",
    "        coord1s.append(coord1)\n",
    "    for coord0,coord1,data in zip(coord0s,coord1s,plotData):\n",
    "        plotArea[coord1 - y0, coord0 - x0] = data\n",
    "    plt.imshow(plotArea*maps[0].stepSize, cmap=\"viridis\")\n",
    "    plt.axis(\"off\")\n",
    "    plt.colorbar(label=\"Proximity to nearest GB [$\\\\mu$ m]\",shrink=0.8)\n",
    "    \n",
    "ebsd.Grain.plotGBProxigram=plotGBProxigram"
   ]
  },
  {
   "cell_type": "code",
   "execution_count": 209,
   "metadata": {},
   "outputs": [],
   "source": [
    "maps[0].grainList[DicMap.ebsdGrainIds[32]].plotGBProxigram()"
   ]
  },
  {
   "cell_type": "markdown",
   "metadata": {},
   "source": [
    "#### Find misOri proxigram"
   ]
  },
  {
   "cell_type": "code",
   "execution_count": 213,
   "metadata": {
    "collapsed": true
   },
   "outputs": [],
   "source": [
    "def calcMisOriProxigram(self,plotData=False,plotMovingMean=False,plotLinearFit=False):\n",
    "    \n",
    "    # define the data\n",
    "    grainmisOriArrayDeg = np.arccos(np.asarray(self.misOriList))*180/np.pi\n",
    "    distances = np.asarray(self.GBProxiGramList)*maps[0].stepSize # um\n",
    "    \n",
    "    # bin the data\n",
    "    from scipy.stats import binned_statistic\n",
    "    bins = np.linspace(0,np.max(distances),int(np.max(distances))*2)\n",
    "    \n",
    "    if len(bins) > 3: # grain size must be sufficient to get a linear plot\n",
    "    \n",
    "        binnedDataMeans = binned_statistic(distances,grainmisOriArrayDeg,statistic='mean',bins=bins,range=(0,int(np.max(distances))))\n",
    "\n",
    "        if plotData:\n",
    "            plt.figure()\n",
    "            plt.plot(distances,grainmisOriArrayDeg,\".\")\n",
    "            plt.xlabel(\"Distance to GB [$\\\\mu$m]\")\n",
    "            plt.ylabel(\"EBSD pixel misorientation [ $^o$ ]\")\n",
    "\n",
    "\n",
    "        if plotData:\n",
    "            if plotMovingMean:\n",
    "                plt.plot(bins[:-1],binnedDataMeans[0][:])\n",
    "        else:\n",
    "            if plotMovingMean:\n",
    "                plt.figure()\n",
    "                plt.plot(bins[:-1],binnedDataMeans[0][:])\n",
    "                plt.xlabel(\"Distance to GB [$\\\\mu$m]\")\n",
    "                plt.ylabel(\"EBSD pixel misorientation [ $^o$ ]\")\n",
    "\n",
    "        # model the curve with a linear function\n",
    "        m,c = np.polyfit(bins[:-1],binnedDataMeans[0][:],1) # find linear fit to moving mean\n",
    "\n",
    "        self.GBProxiGramGradient = m\n",
    "\n",
    "        dataVals=[]\n",
    "        for binVal in bins[:-1]:\n",
    "            dataVal = binVal*m + c\n",
    "            dataVals.append(dataVal)\n",
    "\n",
    "        if plotData:\n",
    "            if plotLinearFit:\n",
    "                plt.plot(bins[:-1],dataVals)\n",
    "        elif plotMovingMean:\n",
    "            if plotLinearFit:\n",
    "                plt.plot(bins[:-1],dataVals)\n",
    "        else:\n",
    "            if plotLinearFit:\n",
    "                plt.figure()\n",
    "                plt.plot(bins[:-1],dataVals)\n",
    "                plt.xlabel(\"Distance to GB [$\\\\mu$m]\")\n",
    "                plt.ylabel(\"EBSD pixel misorientation [ $^o$ ]\")\n",
    "                \n",
    "    else:\n",
    "        self.GBProxiGramGradient = np.nan\n",
    "\n",
    "ebsd.Grain.calcMisOriProxigram=calcMisOriProxigram"
   ]
  },
  {
   "cell_type": "code",
   "execution_count": 215,
   "metadata": {},
   "outputs": [
    {
     "data": {
      "text/plain": [
       "-0.0027179595228401169"
      ]
     },
     "execution_count": 215,
     "metadata": {},
     "output_type": "execute_result"
    }
   ],
   "source": [
    "# check this works\n",
    "maps[0].grainList[DicMap.ebsdGrainIds[32]].calcMisOriProxigram(plotData=True,plotMovingMean=True,plotLinearFit=True)\n",
    "maps[0].grainList[DicMap.ebsdGrainIds[32]].GBProxiGramGradient"
   ]
  },
  {
   "cell_type": "markdown",
   "metadata": {},
   "source": [
    "#### Do for every grain"
   ]
  },
  {
   "cell_type": "code",
   "execution_count": 161,
   "metadata": {},
   "outputs": [],
   "source": [
    "for grain in maps[0].grainList:\n",
    "    grain.calcMisOriProxigram(plotData=False,plotMovingMean=False,plotLinearFit=False)"
   ]
  },
  {
   "cell_type": "markdown",
   "metadata": {},
   "source": [
    "#### Plot distribution of misOri GB proxigram gradients"
   ]
  },
  {
   "cell_type": "code",
   "execution_count": 162,
   "metadata": {
    "collapsed": true
   },
   "outputs": [],
   "source": [
    "misOriGBProxigramGradients=[]\n",
    "for grain in maps[0].grainList:\n",
    "    misOriGBProxigramGradients.append(grain.GBProxiGramGradient)"
   ]
  },
  {
   "cell_type": "code",
   "execution_count": 174,
   "metadata": {},
   "outputs": [
    {
     "name": "stderr",
     "output_type": "stream",
     "text": [
      "/Users/mclijah5/anaconda/envs/py36/lib/python3.6/site-packages/numpy/lib/function_base.py:747: RuntimeWarning: invalid value encountered in greater_equal\n",
      "  keep = (tmp_a >= mn)\n",
      "/Users/mclijah5/anaconda/envs/py36/lib/python3.6/site-packages/numpy/lib/function_base.py:748: RuntimeWarning: invalid value encountered in less_equal\n",
      "  keep &= (tmp_a <= mx)\n"
     ]
    },
    {
     "data": {
      "text/plain": [
       "<matplotlib.text.Text at 0x15db52908>"
      ]
     },
     "execution_count": 174,
     "metadata": {},
     "output_type": "execute_result"
    }
   ],
   "source": [
    "# plot the histogram as a line plot\n",
    "misOriGBProxigradGradient_hist = np.histogram(misOriGBProxigramGradients,range=(-0.2,0.2),bins=30)\n",
    "x = 0.5*(misOriGBProxigradGradient_hist[1][1:]+misOriGBProxigradGradient_hist[1][:-1])\n",
    "y = misOriGBProxigradGradient_hist[0]\n",
    "plt.plot(x,y)\n",
    "plt.xlabel(\"GB proxigram gradient, EBSD misorientation\")\n",
    "plt.ylabel(\"Grain number frequency\")"
   ]
  },
  {
   "cell_type": "markdown",
   "metadata": {},
   "source": [
    "## Deformation at boundaries relative to the grain centroid: HRDIC effective strain"
   ]
  },
  {
   "cell_type": "markdown",
   "metadata": {},
   "source": [
    "#### Calcualte the proxigram (must calcualte EBSD proxigram first)"
   ]
  },
  {
   "cell_type": "code",
   "execution_count": 176,
   "metadata": {
    "collapsed": true
   },
   "outputs": [],
   "source": [
    "def calcDICProxiGram(self):\n",
    "    minDistancesDic = DicMap.warpToDicFrame(maps[0].GBProxigram)\n",
    "    DicMap.GBProxigram = minDistancesDic\n",
    "\n",
    "hrdic.Map.calcDICProxiGram=calcDICProxiGram"
   ]
  },
  {
   "cell_type": "code",
   "execution_count": 177,
   "metadata": {
    "collapsed": true
   },
   "outputs": [],
   "source": [
    "DicMap.calcDICProxiGram()"
   ]
  },
  {
   "cell_type": "markdown",
   "metadata": {},
   "source": [
    "#### Plot proxigram map"
   ]
  },
  {
   "cell_type": "code",
   "execution_count": 193,
   "metadata": {
    "collapsed": true
   },
   "outputs": [],
   "source": [
    "def plotGBProxiGramMap(self):\n",
    "    plt.figure()\n",
    "    plt.imshow(self.GBProxigram*maps[0].stepSize) # pixel distance values are warped from ebsd frame so need to use ebsd step size to charnge to units of um \n",
    "    plt.colorbar(label=\"Proximity to nearest GB [$\\\\mu$ m]\",shrink=0.8)\n",
    "\n",
    "hrdic.Map.plotGBProxiGramMap=plotGBProxiGramMap"
   ]
  },
  {
   "cell_type": "code",
   "execution_count": 195,
   "metadata": {
    "collapsed": true
   },
   "outputs": [],
   "source": [
    "DicMap.plotGBProxiGramMap()"
   ]
  },
  {
   "cell_type": "markdown",
   "metadata": {},
   "source": [
    "#### Get proxigram for individual grain"
   ]
  },
  {
   "cell_type": "code",
   "execution_count": 196,
   "metadata": {
    "collapsed": true
   },
   "outputs": [],
   "source": [
    "def getGrainGBProxiGram(self,GBProxiGramMap=DicMap.GBProxigram):\n",
    "    GBProxiGramList = []\n",
    "    for coord in self.coordList:\n",
    "        GBProxiGramVal = GBProxiGramMap[coord[1],coord[0]]\n",
    "        GBProxiGramList.append(GBProxiGramVal)\n",
    "    self.GBProxiGramList=GBProxiGramList\n",
    "\n",
    "hrdic.Grain.getGrainGBProxiGram=getGrainGBProxiGram"
   ]
  },
  {
   "cell_type": "code",
   "execution_count": 197,
   "metadata": {
    "collapsed": true
   },
   "outputs": [],
   "source": [
    "for grain in DicMap.grainList:\n",
    "    grain.getGrainGBProxiGram()"
   ]
  },
  {
   "cell_type": "markdown",
   "metadata": {},
   "source": [
    "#### Plot grain proxigram"
   ]
  },
  {
   "cell_type": "code",
   "execution_count": 201,
   "metadata": {
    "collapsed": true
   },
   "outputs": [],
   "source": [
    "def plotGBProxigram(self):    \n",
    "    plt.figure()\n",
    "    x0, y0, xmax, ymax = self.extremeCoords\n",
    "#     x0, y0, xmax, ymax = int(x0), int(y0), int(xmax), int(ymax)\n",
    "    plotArea = np.full((ymax - y0 + 1, xmax - x0 + 1), np.nan, dtype=float)\n",
    "    plotData = self.GBProxiGramList\n",
    "    coord0s,coord1s=[],[]\n",
    "    for coord0,coord1 in self.coordList:\n",
    "        coord0s.append(coord0)\n",
    "        coord1s.append(coord1)\n",
    "    for coord0,coord1,data in zip(coord0s,coord1s,plotData):\n",
    "        plotArea[coord1 - y0, coord0 - x0] = data\n",
    "    plt.imshow(plotArea*maps[0].stepSize, cmap=\"viridis\")\n",
    "    plt.axis(\"off\")\n",
    "    plt.colorbar(label=\"Proximity to nearest GB [$\\\\mu$ m]\",shrink=0.8)\n",
    "    \n",
    "hrdic.Grain.plotGBProxigram=plotGBProxigram"
   ]
  },
  {
   "cell_type": "code",
   "execution_count": 212,
   "metadata": {
    "collapsed": true
   },
   "outputs": [],
   "source": [
    "DicMap.grainList[32].plotGBProxigram()"
   ]
  },
  {
   "cell_type": "markdown",
   "metadata": {},
   "source": [
    "#### Find misOri proxigram"
   ]
  },
  {
   "cell_type": "code",
   "execution_count": 218,
   "metadata": {
    "collapsed": true
   },
   "outputs": [],
   "source": [
    "def calcEffStrainProxigram(self,plotData=False,plotMovingMean=False,plotLinearFit=False):\n",
    "    \n",
    "    # define the data\n",
    "    grainStrainData = self.maxShearList\n",
    "    distances = np.asarray(self.GBProxiGramList)*maps[0].stepSize # um\n",
    "    \n",
    "    # bin the data\n",
    "    from scipy.stats import binned_statistic\n",
    "    bins = np.linspace(0,np.max(distances),int(np.max(distances))*2)\n",
    "    \n",
    "    if len(bins) > 3: # grain size must be sufficient to get a linear plot\n",
    "    \n",
    "        binnedDataMeans = binned_statistic(distances,grainStrainData,statistic='mean',bins=bins,range=(0,int(np.max(distances))))\n",
    "\n",
    "        if plotData:\n",
    "            plt.figure()\n",
    "            plt.plot(distances,grainStrainData,\".\")\n",
    "            plt.xlabel(\"Distance to GB [$\\\\mu$m]\")\n",
    "            plt.ylabel(\"HRDIC pixel strain, $\\\\epsilon_{eff}$ [  ]\")\n",
    "\n",
    "\n",
    "        if plotData:\n",
    "            if plotMovingMean:\n",
    "                plt.plot(bins[:-1],binnedDataMeans[0][:])\n",
    "        else:\n",
    "            if plotMovingMean:\n",
    "                plt.figure()\n",
    "                plt.plot(bins[:-1],binnedDataMeans[0][:])\n",
    "                plt.xlabel(\"Distance to GB [$\\\\mu$m]\")\n",
    "                plt.ylabel(\"HRDIC pixel strain, $\\\\epsilon_{eff}$ [  ]\")\n",
    "\n",
    "        # model the curve with a linear function\n",
    "        m,c = np.polyfit(bins[:-1],binnedDataMeans[0][:],1) # find linear fit to moving mean\n",
    "\n",
    "        self.GBProxiGramGradient = m\n",
    "\n",
    "        dataVals=[]\n",
    "        for binVal in bins[:-1]:\n",
    "            dataVal = binVal*m + c\n",
    "            dataVals.append(dataVal)\n",
    "\n",
    "        if plotData:\n",
    "            if plotLinearFit:\n",
    "                plt.plot(bins[:-1],dataVals)\n",
    "        elif plotMovingMean:\n",
    "            if plotLinearFit:\n",
    "                plt.plot(bins[:-1],dataVals)\n",
    "        else:\n",
    "            if plotLinearFit:\n",
    "                plt.figure()\n",
    "                plt.plot(bins[:-1],dataVals)\n",
    "                plt.xlabel(\"Distance to GB [$\\\\mu$m]\")\n",
    "                plt.ylabel(\"HRDIC pixel strain, $\\\\epsilon_{eff}$ [  ]\")\n",
    "                \n",
    "    else:\n",
    "        self.GBProxiGramGradient = np.nan\n",
    "\n",
    "hrdic.Grain.calcEffStrainProxigram=calcEffStrainProxigram"
   ]
  },
  {
   "cell_type": "code",
   "execution_count": 220,
   "metadata": {},
   "outputs": [
    {
     "data": {
      "text/plain": [
       "3.9233852861723832e-05"
      ]
     },
     "execution_count": 220,
     "metadata": {},
     "output_type": "execute_result"
    }
   ],
   "source": [
    "# check this works\n",
    "DicMap.grainList[32].calcEffStrainProxigram(plotData=True,plotMovingMean=True,plotLinearFit=True)\n",
    "DicMap.grainList[32].GBProxiGramGradient"
   ]
  },
  {
   "cell_type": "markdown",
   "metadata": {},
   "source": [
    "#### Do for every grain"
   ]
  },
  {
   "cell_type": "code",
   "execution_count": 221,
   "metadata": {
    "collapsed": true
   },
   "outputs": [],
   "source": [
    "for grain in DicMap.grainList:\n",
    "    grain.calcEffStrainProxigram(plotData=False,plotMovingMean=False,plotLinearFit=False)"
   ]
  },
  {
   "cell_type": "markdown",
   "metadata": {},
   "source": [
    "#### Plot distribution of misOri GB proxigram gradients"
   ]
  },
  {
   "cell_type": "code",
   "execution_count": 223,
   "metadata": {
    "collapsed": true
   },
   "outputs": [],
   "source": [
    "effStrainProxigramGradients=[]\n",
    "for grain in DicMap.grainList:\n",
    "    effStrainProxigramGradients.append(grain.GBProxiGramGradient)"
   ]
  },
  {
   "cell_type": "code",
   "execution_count": 224,
   "metadata": {},
   "outputs": [
    {
     "name": "stderr",
     "output_type": "stream",
     "text": [
      "/Users/mclijah5/anaconda/envs/py36/lib/python3.6/site-packages/numpy/lib/function_base.py:747: RuntimeWarning: invalid value encountered in greater_equal\n",
      "  keep = (tmp_a >= mn)\n",
      "/Users/mclijah5/anaconda/envs/py36/lib/python3.6/site-packages/numpy/lib/function_base.py:748: RuntimeWarning: invalid value encountered in less_equal\n",
      "  keep &= (tmp_a <= mx)\n"
     ]
    },
    {
     "data": {
      "text/plain": [
       "<matplotlib.text.Text at 0x154579898>"
      ]
     },
     "execution_count": 224,
     "metadata": {},
     "output_type": "execute_result"
    }
   ],
   "source": [
    "# plot the histogram as a line plot\n",
    "strainGBProxigradGradient_hist = np.histogram(effStrainProxigramGradients,range=(-0.2,0.2),bins=30)\n",
    "x = 0.5*(strainGBProxigradGradient_hist[1][1:]+strainGBProxigradGradient_hist[1][:-1])\n",
    "y = strainGBProxigradGradient_hist[0]\n",
    "plt.plot(x,y)\n",
    "plt.xlabel(\"GB proxigram gradient, HRDIC effective strain\")\n",
    "plt.ylabel(\"Grain number frequency\")"
   ]
  },
  {
   "cell_type": "code",
   "execution_count": null,
   "metadata": {
    "collapsed": true
   },
   "outputs": [],
   "source": []
  }
 ],
 "metadata": {
  "kernelspec": {
   "display_name": "Python 3",
   "language": "python",
   "name": "python3"
  },
  "language_info": {
   "codemirror_mode": {
    "name": "ipython",
    "version": 3
   },
   "file_extension": ".py",
   "mimetype": "text/x-python",
   "name": "python",
   "nbconvert_exporter": "python",
   "pygments_lexer": "ipython3",
   "version": "3.6.1"
  }
 },
 "nbformat": 4,
 "nbformat_minor": 2
}
