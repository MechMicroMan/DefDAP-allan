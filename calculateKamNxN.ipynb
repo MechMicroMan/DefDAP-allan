{
 "cells": [
  {
   "cell_type": "markdown",
   "metadata": {},
   "source": [
    "# Calculate KAM with flexible nxn sized kernel"
   ]
  },
  {
   "cell_type": "code",
   "execution_count": 1,
   "metadata": {
    "collapsed": true
   },
   "outputs": [],
   "source": [
    "#Load packages\n",
    "import numpy as np\n",
    "import matplotlib.pyplot as plt\n",
    "\n",
    "from scipy.interpolate import spline\n",
    "import scipy.stats\n",
    "import copy\n",
    "from scipy.signal import convolve2d\n",
    "\n",
    "import matplotlib as mpl\n",
    "from skimage import morphology as mph\n",
    "\n",
    "from quat import Quat\n",
    "\n",
    "import ebsd\n",
    "import hrdic\n",
    "\n",
    "#Set plot behaviour. interactive grain selection has only been tested in osx display mode\n",
    "%matplotlib osx"
   ]
  },
  {
   "cell_type": "markdown",
   "metadata": {},
   "source": [
    "## Load data"
   ]
  },
  {
   "cell_type": "code",
   "execution_count": 2,
   "metadata": {
    "collapsed": true
   },
   "outputs": [],
   "source": [
    "mapFiles = [\"./example_data_AH/ebsdData\"]\n",
    "\n",
    "maps = []\n",
    "\n",
    "for i, mapFile in enumerate(mapFiles):\n",
    "    maps.append(ebsd.Map(mapFile, \"cubic\"))\n",
    "    maps[i].loadData(mapFile, \"cubic\")\n",
    "    maps[i].binData = maps[i].binData[::-1]  #rotate the map 180 degrees\n",
    "    maps[i].buildQuatArray()\n",
    "    maps[i].findBoundaries(boundDef = 6)\n",
    "    maps[i].findGrains(minGrainSize=10)\n",
    "    maps[i].calcGrainMisOri(calcAxis = True)"
   ]
  },
  {
   "cell_type": "code",
   "execution_count": 3,
   "metadata": {
    "collapsed": true
   },
   "outputs": [],
   "source": [
    "maps[0].plotMisOriMap()"
   ]
  },
  {
   "cell_type": "markdown",
   "metadata": {},
   "source": [
    "## Ignoring large misOris\n",
    "\n",
    "The following function defines a NxN kernel (n), grabs the data for that kernel and finds the misorientation between the kernel centre and the rest of the kernel pixels. It then ignores any large misorientations (maxMisOri) and ignores the misorientation of the pixel with itself,and then takes the mean of the remaining misorientations in the kernel to get the local KAM. This value is stored in a KAM array, which is then plotted with overlaid grain boundaries"
   ]
  },
  {
   "cell_type": "code",
   "execution_count": 5,
   "metadata": {
    "collapsed": true
   },
   "outputs": [],
   "source": [
    "def calcKamNxN(mapData,n=3,maxMisOri=5, plotKamData=False,plotGBs=False):\n",
    "    \n",
    "    if n <= 1:\n",
    "        raise ValueError(\"Please enter a kernel dimenion n, where n > 1 and n is an odd number\")\n",
    "    oddCheck = n%2\n",
    "    if oddCheck == 0:\n",
    "        raise ValueError(\"Please enter a kernel dimenion n, where n > 1 and n is an odd number\")\n",
    "\n",
    "    # separate the quat coefficients\n",
    "    quatComps = np.empty((4, mapData.yDim, mapData.xDim))\n",
    "    for i, row in enumerate(mapData.quatArray):\n",
    "        for j, quat in enumerate(row):\n",
    "            quatComps[:, i, j] = quat.quatCoef\n",
    "    \n",
    "    # define the data as the separated quat coefficients\n",
    "    data = quatComps\n",
    "\n",
    "    # define r, the remainder, to define the boundary regions\n",
    "    r=int((n-1)/2)\n",
    "\n",
    "    # kamData=np.empty((data.shape[1]-r,data.shape[2]-r))\n",
    "    kamData=np.zeros((data.shape[1],data.shape[2])) # initialise with zeroes so that the final kamMap is the same size as the data\n",
    "\n",
    "    for i in range(r,data.shape[1]-r): # avoid boundaries, r\n",
    "        for j in range(r,data.shape[2]-r):\n",
    "\n",
    "            # initialise a data kernel\n",
    "            dataKernel=np.zeros((4,n,n))\n",
    "            dataKernelList=np.zeros((4,n*n))\n",
    "\n",
    "            # grab the quat data for the data kernel\n",
    "            for q in range(data.shape[0]):\n",
    "\n",
    "                # define the data kernel\n",
    "                for row in range(n):\n",
    "                    for column in range(n):                            \n",
    "                        dataKernel[q,row,column] = data[q,i-r+row,j-r+column]\n",
    "                dataKernelList[q,:]=dataKernel[q,:,:].flatten()\n",
    "\n",
    "            #  find the mirOri between the central data pixel and the data kernel pixels\n",
    "            misOriKernel=abs(np.einsum(\"i,ij->j\",data[:,i,j],dataKernelList[:]))\n",
    "            # convert to degrees\n",
    "            misOriKernelDeg=2*np.arccos(misOriKernel)*180/np.pi\n",
    "\n",
    "            # replace misOris > maxMisOri with NaN\n",
    "            misOriKernelDeg_new=np.empty(n*n)\n",
    "            for val in range(len(misOriKernelDeg_new)):\n",
    "                if misOriKernelDeg[val] >= maxMisOri:\n",
    "                    newVal=np.nan\n",
    "                else:\n",
    "                    newVal=misOriKernelDeg[val]\n",
    "                misOriKernelDeg_new[val]=newVal\n",
    "\n",
    "            # replace central value with NaN\n",
    "            centralPixelIndex=int(((n*n)-1)/2)\n",
    "            misOriKernelDeg_new[centralPixelIndex] = np.nan\n",
    "            \n",
    "            # find mean of all misOris in kernel\n",
    "            meanMisOri=np.nanmean(misOriKernelDeg_new)    \n",
    "\n",
    "            # place misOri in kamData\n",
    "            kamData[i,j] = meanMisOri\n",
    "\n",
    "    # Plotting\n",
    "    if plotKamData:\n",
    "        plt.figure()\n",
    "        plt.imshow(kamData,vmin=0,vmax=1)\n",
    "        plt.colorbar(shrink=0.85,label=\"KAM [ $^o$ ]\")\n",
    "\n",
    "        if plotGBs:\n",
    "            cmap1 = mpl.colors.LinearSegmentedColormap.from_list('my_cmap', ['black', 'black'], 256)\n",
    "            cmap1._init()\n",
    "            cmap1._lut[:, -1] = np.linspace(0, 1, cmap1.N + 3)\n",
    "\n",
    "            boundaries_dilated=mph.binary_dilation(-mapData.boundaries)\n",
    "\n",
    "            plt.imshow(boundaries_dilated, cmap=cmap1, interpolation='None', vmin=0, vmax=1)\n",
    "\n",
    "    return kamData"
   ]
  },
  {
   "cell_type": "code",
   "execution_count": 6,
   "metadata": {},
   "outputs": [
    {
     "name": "stderr",
     "output_type": "stream",
     "text": [
      "/Users/mclijah5/anaconda/envs/py36/lib/python3.6/site-packages/ipykernel_launcher.py:37: RuntimeWarning: invalid value encountered in arccos\n",
      "/Users/mclijah5/anaconda/envs/py36/lib/python3.6/site-packages/ipykernel_launcher.py:49: RuntimeWarning: Mean of empty slice\n"
     ]
    }
   ],
   "source": [
    "kam3x3=calcKamNxN(maps[0],n=3,maxMisOri=5, plotKamData=True,plotGBs=True)"
   ]
  },
  {
   "cell_type": "code",
   "execution_count": 7,
   "metadata": {},
   "outputs": [
    {
     "name": "stderr",
     "output_type": "stream",
     "text": [
      "/Users/mclijah5/anaconda/envs/py36/lib/python3.6/site-packages/ipykernel_launcher.py:37: RuntimeWarning: invalid value encountered in arccos\n",
      "/Users/mclijah5/anaconda/envs/py36/lib/python3.6/site-packages/ipykernel_launcher.py:49: RuntimeWarning: Mean of empty slice\n"
     ]
    }
   ],
   "source": [
    "kam9x9=calcKamNxN(maps[0],n=9,maxMisOri=5, plotKamData=True,plotGBs=True)"
   ]
  },
  {
   "cell_type": "code",
   "execution_count": null,
   "metadata": {
    "collapsed": true
   },
   "outputs": [],
   "source": []
  }
 ],
 "metadata": {
  "kernelspec": {
   "display_name": "Python 3",
   "language": "python",
   "name": "python3"
  },
  "language_info": {
   "codemirror_mode": {
    "name": "ipython",
    "version": 3
   },
   "file_extension": ".py",
   "mimetype": "text/x-python",
   "name": "python",
   "nbconvert_exporter": "python",
   "pygments_lexer": "ipython3",
   "version": "3.6.1"
  }
 },
 "nbformat": 4,
 "nbformat_minor": 2
}
